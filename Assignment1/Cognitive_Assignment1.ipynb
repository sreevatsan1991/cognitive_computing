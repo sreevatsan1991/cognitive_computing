{
 "cells": [
  {
   "cell_type": "code",
   "execution_count": 1,
   "metadata": {},
   "outputs": [
    {
     "name": "stderr",
     "output_type": "stream",
     "text": [
      "Using TensorFlow backend.\n"
     ]
    }
   ],
   "source": [
    "from __future__ import print_function\n",
    "import keras\n",
    "from keras.datasets import cifar10\n",
    "from keras.models import Sequential\n",
    "from keras.layers import Dense, Dropout\n",
    "from keras.optimizers import RMSprop\n",
    "from keras.optimizers import SGD"
   ]
  },
  {
   "cell_type": "code",
   "execution_count": 2,
   "metadata": {
    "collapsed": true
   },
   "outputs": [],
   "source": [
    "# the data, shuffled and split between train and test sets\n",
    "(x_train, y_train), (x_test, y_test) = cifar10.load_data()"
   ]
  },
  {
   "cell_type": "code",
   "execution_count": 3,
   "metadata": {},
   "outputs": [
    {
     "data": {
      "text/plain": [
       "(50000, 32, 32, 3)"
      ]
     },
     "execution_count": 3,
     "metadata": {},
     "output_type": "execute_result"
    }
   ],
   "source": [
    "x_train.shape"
   ]
  },
  {
   "cell_type": "code",
   "execution_count": 4,
   "metadata": {
    "collapsed": true
   },
   "outputs": [],
   "source": [
    "x_train = x_train.reshape(x_train.shape[0], 32 * 32 * 3)\n",
    "x_test = x_test.reshape(x_test.shape[0], 32 * 32 * 3)"
   ]
  },
  {
   "cell_type": "code",
   "execution_count": 5,
   "metadata": {},
   "outputs": [
    {
     "data": {
      "text/plain": [
       "(10000, 3072)"
      ]
     },
     "execution_count": 5,
     "metadata": {},
     "output_type": "execute_result"
    }
   ],
   "source": [
    "x_test.shape"
   ]
  },
  {
   "cell_type": "code",
   "execution_count": 6,
   "metadata": {},
   "outputs": [
    {
     "name": "stdout",
     "output_type": "stream",
     "text": [
      "50000 train samples\n",
      "10000 test samples\n"
     ]
    }
   ],
   "source": [
    "x_train = x_train.astype('float32')\n",
    "x_test = x_test.astype('float32')\n",
    "x_train /= 255\n",
    "x_test /= 255\n",
    "print(x_train.shape[0], 'train samples')\n",
    "print(x_test.shape[0], 'test samples')"
   ]
  },
  {
   "cell_type": "code",
   "execution_count": 7,
   "metadata": {
    "collapsed": true
   },
   "outputs": [],
   "source": [
    "batch_size = 128\n",
    "num_classes = 10\n",
    "epochs = 50"
   ]
  },
  {
   "cell_type": "code",
   "execution_count": 8,
   "metadata": {
    "collapsed": true
   },
   "outputs": [],
   "source": [
    "# convert class vectors to binary class matrices\n",
    "y_train = keras.utils.to_categorical(y_train, num_classes)\n",
    "y_test = keras.utils.to_categorical(y_test, num_classes)"
   ]
  },
  {
   "cell_type": "code",
   "execution_count": 9,
   "metadata": {},
   "outputs": [
    {
     "name": "stdout",
     "output_type": "stream",
     "text": [
      "_________________________________________________________________\n",
      "Layer (type)                 Output Shape              Param #   \n",
      "=================================================================\n",
      "dense_1 (Dense)              (None, 512)               1573376   \n",
      "_________________________________________________________________\n",
      "dropout_1 (Dropout)          (None, 512)               0         \n",
      "_________________________________________________________________\n",
      "dense_2 (Dense)              (None, 512)               262656    \n",
      "_________________________________________________________________\n",
      "dropout_2 (Dropout)          (None, 512)               0         \n",
      "_________________________________________________________________\n",
      "dense_3 (Dense)              (None, 512)               262656    \n",
      "_________________________________________________________________\n",
      "dropout_3 (Dropout)          (None, 512)               0         \n",
      "_________________________________________________________________\n",
      "dense_4 (Dense)              (None, 10)                5130      \n",
      "=================================================================\n",
      "Total params: 2,103,818\n",
      "Trainable params: 2,103,818\n",
      "Non-trainable params: 0\n",
      "_________________________________________________________________\n"
     ]
    }
   ],
   "source": [
    "model = Sequential()\n",
    "model.add(Dense(512, activation='relu', input_shape=(3072,)))\n",
    "model.add(Dropout(0.2))\n",
    "model.add(Dense(512, activation='relu'))\n",
    "model.add(Dropout(0.2))\n",
    "model.add(Dense(512, activation='relu'))\n",
    "model.add(Dropout(0.2))\n",
    "model.add(Dense(10, activation='softmax'))\n",
    "\n",
    "model.summary()\n"
   ]
  },
  {
   "cell_type": "code",
   "execution_count": 16,
   "metadata": {
    "collapsed": true
   },
   "outputs": [],
   "source": [
    "model.compile(loss='categorical_crossentropy',\n",
    "              optimizer=RMSprop(),\n",
    "              metrics=['accuracy'])"
   ]
  },
  {
   "cell_type": "code",
   "execution_count": 10,
   "metadata": {},
   "outputs": [
    {
     "name": "stdout",
     "output_type": "stream",
     "text": [
      "_________________________________________________________________\n",
      "Layer (type)                 Output Shape              Param #   \n",
      "=================================================================\n",
      "dense_1 (Dense)              (None, 512)               1573376   \n",
      "_________________________________________________________________\n",
      "dropout_1 (Dropout)          (None, 512)               0         \n",
      "_________________________________________________________________\n",
      "dense_2 (Dense)              (None, 512)               262656    \n",
      "_________________________________________________________________\n",
      "dropout_2 (Dropout)          (None, 512)               0         \n",
      "_________________________________________________________________\n",
      "dense_3 (Dense)              (None, 512)               262656    \n",
      "_________________________________________________________________\n",
      "dropout_3 (Dropout)          (None, 512)               0         \n",
      "_________________________________________________________________\n",
      "dense_4 (Dense)              (None, 10)                5130      \n",
      "=================================================================\n",
      "Total params: 2,103,818\n",
      "Trainable params: 2,103,818\n",
      "Non-trainable params: 0\n",
      "_________________________________________________________________\n",
      "None\n"
     ]
    }
   ],
   "source": [
    "epochs = 50\n",
    "lrate = 0.03\n",
    "decay = lrate/epochs\n",
    "sgd = SGD(lr=lrate, momentum=0.9, decay=decay, nesterov=False)\n",
    "model.compile(loss='categorical_crossentropy', optimizer=sgd, metrics=['accuracy'])\n",
    "print(model.summary())"
   ]
  },
  {
   "cell_type": "code",
   "execution_count": 11,
   "metadata": {},
   "outputs": [
    {
     "name": "stdout",
     "output_type": "stream",
     "text": [
      "Train on 50000 samples, validate on 10000 samples\n",
      "Epoch 1/50\n",
      "50000/50000 [==============================] - 11s - loss: 1.9485 - acc: 0.2873 - val_loss: 1.7995 - val_acc: 0.3615\n",
      "Epoch 2/50\n",
      "50000/50000 [==============================] - 11s - loss: 1.8062 - acc: 0.3471 - val_loss: 1.7006 - val_acc: 0.3962\n",
      "Epoch 3/50\n",
      "50000/50000 [==============================] - 11s - loss: 1.7371 - acc: 0.3756 - val_loss: 1.6396 - val_acc: 0.4139\n",
      "Epoch 4/50\n",
      "50000/50000 [==============================] - 11s - loss: 1.6771 - acc: 0.3940 - val_loss: 1.5821 - val_acc: 0.4370\n",
      "Epoch 5/50\n",
      "50000/50000 [==============================] - 11s - loss: 1.6383 - acc: 0.4080 - val_loss: 1.5753 - val_acc: 0.4416\n",
      "Epoch 6/50\n",
      "50000/50000 [==============================] - 11s - loss: 1.6037 - acc: 0.4237 - val_loss: 1.5376 - val_acc: 0.4549\n",
      "Epoch 7/50\n",
      "50000/50000 [==============================] - 11s - loss: 1.5796 - acc: 0.4305 - val_loss: 1.5128 - val_acc: 0.4665\n",
      "Epoch 8/50\n",
      "50000/50000 [==============================] - 11s - loss: 1.5576 - acc: 0.4366 - val_loss: 1.5292 - val_acc: 0.4513\n",
      "Epoch 9/50\n",
      "50000/50000 [==============================] - 11s - loss: 1.5373 - acc: 0.4460 - val_loss: 1.4723 - val_acc: 0.4803\n",
      "Epoch 10/50\n",
      "50000/50000 [==============================] - 11s - loss: 1.5182 - acc: 0.4541 - val_loss: 1.4807 - val_acc: 0.4683\n",
      "Epoch 11/50\n",
      "50000/50000 [==============================] - 11s - loss: 1.5011 - acc: 0.4589 - val_loss: 1.4551 - val_acc: 0.4788\n",
      "Epoch 12/50\n",
      "50000/50000 [==============================] - 11s - loss: 1.4788 - acc: 0.4679 - val_loss: 1.4426 - val_acc: 0.4874\n",
      "Epoch 13/50\n",
      "50000/50000 [==============================] - 11s - loss: 1.4667 - acc: 0.4733 - val_loss: 1.4232 - val_acc: 0.4962\n",
      "Epoch 14/50\n",
      "50000/50000 [==============================] - 11s - loss: 1.4571 - acc: 0.4746 - val_loss: 1.4050 - val_acc: 0.4961\n",
      "Epoch 15/50\n",
      "50000/50000 [==============================] - 11s - loss: 1.4409 - acc: 0.4821 - val_loss: 1.3982 - val_acc: 0.5035\n",
      "Epoch 16/50\n",
      "50000/50000 [==============================] - 11s - loss: 1.4270 - acc: 0.4866 - val_loss: 1.4478 - val_acc: 0.4875\n",
      "Epoch 17/50\n",
      "50000/50000 [==============================] - 11s - loss: 1.4179 - acc: 0.4906 - val_loss: 1.3975 - val_acc: 0.4999\n",
      "Epoch 18/50\n",
      "50000/50000 [==============================] - 11s - loss: 1.4068 - acc: 0.4928 - val_loss: 1.3896 - val_acc: 0.5039\n",
      "Epoch 19/50\n",
      "50000/50000 [==============================] - 11s - loss: 1.3973 - acc: 0.4971 - val_loss: 1.3657 - val_acc: 0.5093\n",
      "Epoch 20/50\n",
      "50000/50000 [==============================] - 11s - loss: 1.3828 - acc: 0.5006 - val_loss: 1.3721 - val_acc: 0.5086\n",
      "Epoch 21/50\n",
      "50000/50000 [==============================] - 11s - loss: 1.3781 - acc: 0.5058 - val_loss: 1.3667 - val_acc: 0.5152\n",
      "Epoch 22/50\n",
      "50000/50000 [==============================] - 11s - loss: 1.3681 - acc: 0.5066 - val_loss: 1.3637 - val_acc: 0.5137\n",
      "Epoch 23/50\n",
      "50000/50000 [==============================] - 11s - loss: 1.3620 - acc: 0.5103 - val_loss: 1.3632 - val_acc: 0.5140\n",
      "Epoch 24/50\n",
      "50000/50000 [==============================] - 11s - loss: 1.3506 - acc: 0.5142 - val_loss: 1.3539 - val_acc: 0.5212\n",
      "Epoch 25/50\n",
      "50000/50000 [==============================] - 11s - loss: 1.3400 - acc: 0.5180 - val_loss: 1.3649 - val_acc: 0.5167\n",
      "Epoch 26/50\n",
      "50000/50000 [==============================] - 11s - loss: 1.3339 - acc: 0.5196 - val_loss: 1.3403 - val_acc: 0.5227\n",
      "Epoch 27/50\n",
      "50000/50000 [==============================] - 11s - loss: 1.3271 - acc: 0.5213 - val_loss: 1.3375 - val_acc: 0.5221\n",
      "Epoch 28/50\n",
      "50000/50000 [==============================] - 11s - loss: 1.3178 - acc: 0.5227 - val_loss: 1.3285 - val_acc: 0.5262\n",
      "Epoch 29/50\n",
      "50000/50000 [==============================] - 11s - loss: 1.3131 - acc: 0.5250 - val_loss: 1.3403 - val_acc: 0.5198\n",
      "Epoch 30/50\n",
      "50000/50000 [==============================] - 11s - loss: 1.3028 - acc: 0.5297 - val_loss: 1.3165 - val_acc: 0.5281\n",
      "Epoch 31/50\n",
      "50000/50000 [==============================] - 11s - loss: 1.2981 - acc: 0.5345 - val_loss: 1.3313 - val_acc: 0.5244\n",
      "Epoch 32/50\n",
      "50000/50000 [==============================] - 11s - loss: 1.2897 - acc: 0.5358 - val_loss: 1.3414 - val_acc: 0.5164\n",
      "Epoch 33/50\n",
      "50000/50000 [==============================] - 11s - loss: 1.2846 - acc: 0.5387 - val_loss: 1.3279 - val_acc: 0.5276\n",
      "Epoch 34/50\n",
      "50000/50000 [==============================] - 11s - loss: 1.2771 - acc: 0.5423 - val_loss: 1.3091 - val_acc: 0.5296\n",
      "Epoch 35/50\n",
      "50000/50000 [==============================] - 11s - loss: 1.2702 - acc: 0.5413 - val_loss: 1.3078 - val_acc: 0.5331\n",
      "Epoch 36/50\n",
      "50000/50000 [==============================] - 11s - loss: 1.2691 - acc: 0.5456 - val_loss: 1.3238 - val_acc: 0.5327\n",
      "Epoch 37/50\n",
      "50000/50000 [==============================] - 11s - loss: 1.2620 - acc: 0.5483 - val_loss: 1.3105 - val_acc: 0.5341\n",
      "Epoch 38/50\n",
      "50000/50000 [==============================] - 11s - loss: 1.2559 - acc: 0.5482 - val_loss: 1.3121 - val_acc: 0.5324\n",
      "Epoch 39/50\n",
      "50000/50000 [==============================] - 11s - loss: 1.2480 - acc: 0.5521 - val_loss: 1.2965 - val_acc: 0.5373\n",
      "Epoch 40/50\n",
      "50000/50000 [==============================] - 11s - loss: 1.2443 - acc: 0.5510 - val_loss: 1.3047 - val_acc: 0.5358\n",
      "Epoch 41/50\n",
      "50000/50000 [==============================] - 10s - loss: 1.2384 - acc: 0.5571 - val_loss: 1.2959 - val_acc: 0.5373\n",
      "Epoch 42/50\n",
      "50000/50000 [==============================] - 11s - loss: 1.2391 - acc: 0.5556 - val_loss: 1.3253 - val_acc: 0.5265\n",
      "Epoch 43/50\n",
      "50000/50000 [==============================] - 11s - loss: 1.2287 - acc: 0.5587 - val_loss: 1.2934 - val_acc: 0.5418\n",
      "Epoch 44/50\n",
      "50000/50000 [==============================] - 11s - loss: 1.2270 - acc: 0.5566 - val_loss: 1.2888 - val_acc: 0.5415\n",
      "Epoch 45/50\n",
      "50000/50000 [==============================] - 11s - loss: 1.2149 - acc: 0.5626 - val_loss: 1.2836 - val_acc: 0.5416\n",
      "Epoch 46/50\n",
      "50000/50000 [==============================] - 11s - loss: 1.2147 - acc: 0.5661 - val_loss: 1.2866 - val_acc: 0.5388\n",
      "Epoch 47/50\n",
      "50000/50000 [==============================] - 11s - loss: 1.2109 - acc: 0.5625 - val_loss: 1.2836 - val_acc: 0.5467\n",
      "Epoch 48/50\n",
      "50000/50000 [==============================] - 11s - loss: 1.2062 - acc: 0.5659 - val_loss: 1.2967 - val_acc: 0.5414\n",
      "Epoch 49/50\n",
      "50000/50000 [==============================] - 11s - loss: 1.2012 - acc: 0.5681 - val_loss: 1.2865 - val_acc: 0.5370\n",
      "Epoch 50/50\n",
      "50000/50000 [==============================] - 11s - loss: 1.2011 - acc: 0.5664 - val_loss: 1.2829 - val_acc: 0.5430\n"
     ]
    }
   ],
   "source": [
    "history = model.fit(x_train, y_train,\n",
    "                    batch_size=batch_size,\n",
    "                    epochs=epochs,\n",
    "                    verbose=1,\n",
    "                    validation_data=(x_test, y_test))"
   ]
  },
  {
   "cell_type": "code",
   "execution_count": 24,
   "metadata": {},
   "outputs": [
    {
     "name": "stdout",
     "output_type": "stream",
     "text": [
      "Train on 50000 samples, validate on 10000 samples\n",
      "Epoch 1/10\n",
      "50000/50000 [==============================] - 9s - loss: 1.6897 - acc: 0.3955 - val_loss: 1.5591 - val_acc: 0.4498\n",
      "Epoch 2/10\n",
      "50000/50000 [==============================] - 9s - loss: 1.5277 - acc: 0.4507 - val_loss: 1.4692 - val_acc: 0.4812\n",
      "Epoch 3/10\n",
      "50000/50000 [==============================] - 9s - loss: 1.4694 - acc: 0.4715 - val_loss: 1.4433 - val_acc: 0.4890\n",
      "Epoch 4/10\n",
      "50000/50000 [==============================] - 9s - loss: 1.4393 - acc: 0.4805 - val_loss: 1.4396 - val_acc: 0.4913\n",
      "Epoch 5/10\n",
      "50000/50000 [==============================] - 9s - loss: 1.4269 - acc: 0.4847 - val_loss: 1.4283 - val_acc: 0.5007\n",
      "Epoch 6/10\n",
      "50000/50000 [==============================] - 9s - loss: 1.4157 - acc: 0.4920 - val_loss: 1.4196 - val_acc: 0.5003\n",
      "Epoch 7/10\n",
      "50000/50000 [==============================] - 9s - loss: 1.3997 - acc: 0.4974 - val_loss: 1.4159 - val_acc: 0.5039\n",
      "Epoch 8/10\n",
      "50000/50000 [==============================] - 9s - loss: 1.3995 - acc: 0.4969 - val_loss: 1.4156 - val_acc: 0.5036\n",
      "Epoch 9/10\n",
      "50000/50000 [==============================] - 9s - loss: 1.3957 - acc: 0.4968 - val_loss: 1.4211 - val_acc: 0.5006\n",
      "Epoch 10/10\n",
      "50000/50000 [==============================] - 9s - loss: 1.3884 - acc: 0.5033 - val_loss: 1.4103 - val_acc: 0.5015\n"
     ]
    }
   ],
   "source": [
    "history = model.fit(x_train, y_train,\n",
    "                    batch_size=batch_size,\n",
    "                    epochs=epochs,\n",
    "                    verbose=1,\n",
    "                    validation_data=(x_test, y_test))"
   ]
  },
  {
   "cell_type": "code",
   "execution_count": 12,
   "metadata": {},
   "outputs": [
    {
     "name": "stdout",
     "output_type": "stream",
     "text": [
      "Test loss: 1.28290257664\n",
      "Test accuracy: 0.543\n"
     ]
    }
   ],
   "source": [
    "score = model.evaluate(x_test, y_test, verbose=0)\n",
    "print('Test loss:', score[0])\n",
    "print('Test accuracy:', score[1])"
   ]
  },
  {
   "cell_type": "code",
   "execution_count": 22,
   "metadata": {},
   "outputs": [
    {
     "name": "stdout",
     "output_type": "stream",
     "text": [
      "Test loss: 1.36961649818\n",
      "Test accuracy: 0.5162\n"
     ]
    }
   ],
   "source": [
    "score = model.evaluate(x_test, y_test, verbose=0)\n",
    "print('Test loss:', score[0])\n",
    "print('Test accuracy:', score[1])"
   ]
  },
  {
   "cell_type": "code",
   "execution_count": null,
   "metadata": {
    "collapsed": true
   },
   "outputs": [],
   "source": []
  }
 ],
 "metadata": {
  "kernelspec": {
   "display_name": "Python 3",
   "language": "python",
   "name": "python3"
  },
  "language_info": {
   "codemirror_mode": {
    "name": "ipython",
    "version": 3
   },
   "file_extension": ".py",
   "mimetype": "text/x-python",
   "name": "python",
   "nbconvert_exporter": "python",
   "pygments_lexer": "ipython3",
   "version": "3.6.2"
  }
 },
 "nbformat": 4,
 "nbformat_minor": 2
}
